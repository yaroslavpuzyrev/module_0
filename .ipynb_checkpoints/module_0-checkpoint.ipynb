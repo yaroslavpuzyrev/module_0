{
 "cells": [
  {
   "cell_type": "code",
   "execution_count": null,
   "metadata": {},
   "outputs": [],
   "source": [
    "import numpy as np\n",
    "def score_game(game_core):\n",
    "    '''Function creates a list of 1000 numbers in range of 1-100, then counts average\n",
    "    tries to guess each number and prints it.'''\n",
    "    count_ls = []\n",
    "    np.random.seed(2)  # fix RANDOM SEED, so the experiment is retriable.\n",
    "    random_array = np.random.randint(1,101, size=(1000))\n",
    "    for number in random_array:\n",
    "        count_ls.append(game_core(number))\n",
    "    score = int(np.mean(count_ls))\n",
    "    print(f\"Ваш алгоритм угадывает число в среднем за {score} попыток\")\n",
    "    return(score)\n",
    "\n",
    "def game_core_v3(number):\n",
    "    '''Binar search algorithm to guess numbers in score_game.'''\n",
    "    array_max = 101\n",
    "    array_min = -1\n",
    "    count = 1\n",
    "    predict = 0\n",
    "    while number != predict:\n",
    "        count += 1\n",
    "        if predict < number:\n",
    "            array_min = predict\n",
    "            predict = round((array_max + array_min)/2) #hulfs guessing range each cycle.\n",
    "        elif predict > number:\n",
    "            array_max = predict\n",
    "            predict = round((array_max + array_min)/2)\n",
    "    return(count)\n",
    "\n",
    "score_game(game_core_v3)"
   ]
  }
 ],
 "metadata": {
  "kernelspec": {
   "display_name": "Python 3",
   "language": "python",
   "name": "python3"
  },
  "language_info": {
   "codemirror_mode": {
    "name": "ipython",
    "version": 3
   },
   "file_extension": ".py",
   "mimetype": "text/x-python",
   "name": "python",
   "nbconvert_exporter": "python",
   "pygments_lexer": "ipython3",
   "version": "3.8.5"
  }
 },
 "nbformat": 4,
 "nbformat_minor": 4
}
